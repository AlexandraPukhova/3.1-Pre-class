{
 "cells": [
  {
   "cell_type": "markdown",
   "metadata": {},
   "source": [
    "# Making predictions and decisions with medical trial data\n",
    "\n",
    "We have data for 6 studies that have been done on the effect of *specific allergen immunotherapy* (SIT) on eczema and the following success rates have been observed. In each of the trials, the investigator rated whether each patient's condition improved or not.\n",
    "\n",
    "This data set is from the [Cochrane Database of Systematic Reviews](http://www.cochranelibrary.com/) article cited below, available for free [here](http://onlinelibrary.wiley.com/doi/10.1002/14651858.CD008774.pub2/full). The Cochrane Database is a great resource for high quality data on all sorts of medical trials.\n",
    "\n",
    "> Tam H., Calderon M.A., Manikam L., Nankervis H., García Núñez I., Williams H.C., Durham S., Boyle R.J. (2016). Specific allergen immunotherapy for the treatment of atopic eczema. *Cochrane Database of Systematic Reviews, Issue 2*. Art. No.: CD008774. DOI: 10.1002/14651858.CD008774.pub2.\n",
    "\n",
    "| Study          | Improved | Not improved |\n",
    "|:-------------- | --------:| ------------:|\n",
    "| Di Rienzo 2014 | 20       | 3            |\n",
    "| Galli 1994     | 10       | 6            |\n",
    "| Kaufman 1974   | 13       | 3            |\n",
    "| Qin 2014       | 35       | 10           |\n",
    "| Sanchez 2012   | 22       | 9            |\n",
    "| Silny 2006     | 7        | 3            |\n",
    "| **Totals**     | **107**  | **34**       |\n",
    "\n",
    "## Task 1: Modeling\n",
    "**Build a statistical model for this data set.** As your data, use the total number of patients improved (107) and not improved (34).\n",
    "\n",
    "**Steps in the modeling process:**\n",
    "1. Choose and motivate for an appropriate likelihood function for this type of data.\n",
    "    1. Make sure the support of your likelihood function matches the type of data we are working with.\n",
    "    2. Describe the unobserved parameter(s) of your model, and describe how it/they can be interpreted.\n",
    "2. Use a conjugate prior distribution for your likelihood function.\n",
    "    1. Select appropriate values for the prior hyperparameters and motivate your choice.\n",
    "    2. Visualize your prior distribution.\n",
    "3. Compute and visualize the posterior distribution over the unobserved parameter(s) of your model. Also describe what the posterior tells you about the parameter(s).\n",
    "\n",
    "Feel free to discuss this task with other students in the course, or attempt it on your own if you prefer. Discussing your modeling ideas with other students is a useful way to get feedback on your assumptions."
   ]
  },
  {
   "cell_type": "markdown",
   "metadata": {},
   "source": [
    "I will use a Binomial likelihood function as my likelihood function. Beta distribution is a conjugate prior for my distribution, with a=1, b=1, i.e. it is a uniform prior."
   ]
  },
  {
   "cell_type": "code",
   "execution_count": 30,
   "metadata": {
    "collapsed": true
   },
   "outputs": [],
   "source": [
    "import numpy as np\n",
    "import matplotlib.pyplot as plt\n",
    "from scipy import stats\n",
    "from scipy.stats import beta\n",
    "from scipy.stats import binom"
   ]
  },
  {
   "cell_type": "code",
   "execution_count": 12,
   "metadata": {},
   "outputs": [
    {
     "data": {
      "text/plain": [
       "[<matplotlib.lines.Line2D at 0x1a1cf19d68>]"
      ]
     },
     "execution_count": 12,
     "metadata": {},
     "output_type": "execute_result"
    },
    {
     "data": {
      "image/png": "[encoded data removed]",
      "text/plain": [
       "<Figure size 432x288 with 1 Axes>"
      ]
     },
     "metadata": {},
     "output_type": "display_data"
    }
   ],
   "source": [
    "# Beta prior distribution\n",
    "a=1\n",
    "b=1\n",
    "theta = np.linspace(0,1,141)\n",
    "Y_prior = beta.pdf(theta, a,b)\n",
    "plt.plot(theta,Y_prior) #Beta prior pdf"
   ]
  },
  {
   "cell_type": "code",
   "execution_count": 20,
   "metadata": {},
   "outputs": [
    {
     "name": "stdout",
     "output_type": "stream",
     "text": [
      "Mean: 0.7552447552447552\n"
     ]
    },
    {
     "data": {
      "image/png": "[encoded data removed]",
      "text/plain": [
       "<Figure size 432x288 with 1 Axes>"
      ]
     },
     "metadata": {},
     "output_type": "display_data"
    }
   ],
   "source": [
    "# Beta posterior distribution\n",
    "\n",
    "N1 = 141\n",
    "X = 107\n",
    "Y_posterior = beta.pdf(theta, a+X, b+N1-X)\n",
    "plt.plot(theta,Y_posterior) #Beta posterior pdf over theta\n",
    "print ('Mean:',beta.mean(a+X, b+N1-X))"
   ]
  },
  {
   "cell_type": "markdown",
   "metadata": {},
   "source": [
    "## Task 2: Questions, predictions, and decisions\n",
    "1. Posterior predictive distribution: Use your model to predict how many patients would improve if we treated 100 new eczema patients using SIT. Express your answer as a probability distribution over the number of patients improved.\n",
    "2. Use your posterior to answer these questions:\n",
    "    1. What is the probability that at least two thirds of eczema patients get better with SIT?\n",
    "    2. What is the probability that at least 75% of eczema patients get better with SIT?\n",
    "3. Use your model to decide whether the treatment works or not. Motivate your answer."
   ]
  },
  {
   "cell_type": "code",
   "execution_count": 27,
   "metadata": {},
   "outputs": [
    {
     "name": "stdout",
     "output_type": "stream",
     "text": [
      "Probability that at least two thirds of patients get better:  0.9902521886495699\n",
      "Probability that at least 75 percent of patients get better:  0.5706496661069852\n"
     ]
    }
   ],
   "source": [
    "# Question 2\n",
    "print ('Probability that at least two thirds of patients get better: ',\n",
    "       1-beta.cdf(2/3., a=a+X, b=b+N1-X))\n",
    "print ('Probability that at least 75 percent of patients get better: ',\n",
    "       1-beta.cdf(0.75, a=a+X, b=b+N1-X))"
   ]
  },
  {
   "cell_type": "code",
   "execution_count": 33,
   "metadata": {},
   "outputs": [
    {
     "data": {
      "text/plain": [
       "<matplotlib.collections.PathCollection at 0x1a1d16e9b0>"
      ]
     },
     "execution_count": 33,
     "metadata": {},
     "output_type": "execute_result"
    },
    {
     "data": {
      "image/png": "[encoded data removed]",
      "text/plain": [
       "<Figure size 432x288 with 1 Axes>"
      ]
     },
     "metadata": {},
     "output_type": "display_data"
    }
   ],
   "source": [
    "# Posterior predictive\n",
    "# unsuccessful\n",
    "\n",
    "# Step 1\n",
    "posterior_mean= beta.mean(a+X, b+N1-X)\n",
    "x = np.arange(0,100)\n",
    "plt.scatter(x,binom.pmf(x,a+X,b+N1-X))  \n",
    "\n",
    "\n",
    "# Alternatively \n",
    "# scipy.special.gammaln\n",
    "# post_predict = gammaln(n+1) + gammaln(x+a) + gammaln(n-x+b) + gammaln(a+b) - \\\n",
    "        # (gammaln(x+1) + gammaln(n-x+1) + gammaln(a) + gammaln(b) + gammaln(n+a+b))"
   ]
  },
  {
   "cell_type": "code",
   "execution_count": null,
   "metadata": {
    "collapsed": true
   },
   "outputs": [],
   "source": []
  }
 ],
 "metadata": {
  "kernelspec": {
   "display_name": "Python [CS146]",
   "language": "python",
   "name": "Python [CS146]"
  },
  "language_info": {
   "codemirror_mode": {
    "name": "ipython",
    "version": 3
   },
   "file_extension": ".py",
   "mimetype": "text/x-python",
   "name": "python",
   "nbconvert_exporter": "python",
   "pygments_lexer": "ipython3",
   "version": "3.6.5"
  }
 },
 "nbformat": 4,
 "nbformat_minor": 2
}
